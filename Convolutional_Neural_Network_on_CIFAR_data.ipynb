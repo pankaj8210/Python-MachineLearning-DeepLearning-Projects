{
  "nbformat": 4,
  "nbformat_minor": 0,
  "metadata": {
    "colab": {
      "name": "Convolutional Neural Network on CIFAR data.ipynb",
      "provenance": [],
      "collapsed_sections": [],
      "authorship_tag": "ABX9TyNkDS/bG8a0cSaOWfQEeDd7",
      "include_colab_link": true
    },
    "kernelspec": {
      "name": "python3",
      "display_name": "Python 3"
    }
  },
  "cells": [
    {
      "cell_type": "markdown",
      "metadata": {
        "id": "view-in-github",
        "colab_type": "text"
      },
      "source": [
        "<a href=\"https://colab.research.google.com/github/profshai/Python-MachineLearning-DeepLearning-Projects/blob/master/Convolutional_Neural_Network_on_CIFAR_data.ipynb\" target=\"_parent\"><img src=\"https://colab.research.google.com/assets/colab-badge.svg\" alt=\"Open In Colab\"/></a>"
      ]
    },
    {
      "cell_type": "markdown",
      "metadata": {
        "id": "TCh09CgHDJvd",
        "colab_type": "text"
      },
      "source": [
        "# CIFAR-10 Multiple Classes"
      ]
    },
    {
      "cell_type": "markdown",
      "metadata": {
        "id": "1K-vxYUTuKYS",
        "colab_type": "text"
      },
      "source": [
        "## Data\n",
        "\n",
        "CIFAR-10 is a dataset of 50,000 32x32 color training images, labeled over 10 categories, and 10,000 test images."
      ]
    },
    {
      "cell_type": "code",
      "metadata": {
        "id": "ZYjzzLSHDNdv",
        "colab_type": "code",
        "colab": {}
      },
      "source": [
        "import pandas as pd\n",
        "import numpy as np\n",
        "import matplotlib.pyplot as plt"
      ],
      "execution_count": 0,
      "outputs": []
    },
    {
      "cell_type": "code",
      "metadata": {
        "id": "_rnaFHZCuSZy",
        "colab_type": "code",
        "colab": {}
      },
      "source": [
        "from tensorflow.keras.datasets import cifar10"
      ],
      "execution_count": 0,
      "outputs": []
    },
    {
      "cell_type": "code",
      "metadata": {
        "id": "xWNvb2H5uYDa",
        "colab_type": "code",
        "colab": {
          "base_uri": "https://localhost:8080/",
          "height": 51
        },
        "outputId": "625383eb-5797-4ad7-929f-056f24d44615"
      },
      "source": [
        "(x_train, y_train), (x_test, y_test) = cifar10.load_data()"
      ],
      "execution_count": 3,
      "outputs": [
        {
          "output_type": "stream",
          "text": [
            "Downloading data from https://www.cs.toronto.edu/~kriz/cifar-10-python.tar.gz\n",
            "170500096/170498071 [==============================] - 2s 0us/step\n"
          ],
          "name": "stdout"
        }
      ]
    },
    {
      "cell_type": "code",
      "metadata": {
        "id": "2wQc1QW6ullI",
        "colab_type": "code",
        "colab": {
          "base_uri": "https://localhost:8080/",
          "height": 34
        },
        "outputId": "f0395845-d204-45ce-b035-a4b0a960df62"
      },
      "source": [
        "x_train.shape"
      ],
      "execution_count": 4,
      "outputs": [
        {
          "output_type": "execute_result",
          "data": {
            "text/plain": [
              "(50000, 32, 32, 3)"
            ]
          },
          "metadata": {
            "tags": []
          },
          "execution_count": 4
        }
      ]
    },
    {
      "cell_type": "code",
      "metadata": {
        "id": "kIrRAQMGunuS",
        "colab_type": "code",
        "colab": {
          "base_uri": "https://localhost:8080/",
          "height": 34
        },
        "outputId": "64b6b105-4231-4f7f-89fa-2ecfe9fb8617"
      },
      "source": [
        "x_train[0].shape"
      ],
      "execution_count": 5,
      "outputs": [
        {
          "output_type": "execute_result",
          "data": {
            "text/plain": [
              "(32, 32, 3)"
            ]
          },
          "metadata": {
            "tags": []
          },
          "execution_count": 5
        }
      ]
    },
    {
      "cell_type": "code",
      "metadata": {
        "id": "9V7X3mzCuroE",
        "colab_type": "code",
        "colab": {
          "base_uri": "https://localhost:8080/",
          "height": 283
        },
        "outputId": "140ce719-6777-41f4-c4e0-e3eac42ec2ae"
      },
      "source": [
        "plt.imshow(x_train[0])"
      ],
      "execution_count": 6,
      "outputs": [
        {
          "output_type": "execute_result",
          "data": {
            "text/plain": [
              "<matplotlib.image.AxesImage at 0x7fc4b41357f0>"
            ]
          },
          "metadata": {
            "tags": []
          },
          "execution_count": 6
        },
        {
          "output_type": "display_data",
          "data": {
            "image/png": "[encoded data removed]",
            "text/plain": [
              "<Figure size 432x288 with 1 Axes>"
            ]
          },
          "metadata": {
            "tags": [],
            "needs_background": "light"
          }
        }
      ]
    },
    {
      "cell_type": "code",
      "metadata": {
        "id": "WdBkZHs3uyeV",
        "colab_type": "code",
        "colab": {
          "base_uri": "https://localhost:8080/",
          "height": 283
        },
        "outputId": "d09c6996-973d-4f21-8a3d-96bec8eb66fb"
      },
      "source": [
        "plt.imshow(x_train[20])"
      ],
      "execution_count": 7,
      "outputs": [
        {
          "output_type": "execute_result",
          "data": {
            "text/plain": [
              "<matplotlib.image.AxesImage at 0x7fc4b3c05358>"
            ]
          },
          "metadata": {
            "tags": []
          },
          "execution_count": 7
        },
        {
          "output_type": "display_data",
          "data": {
            "image/png": "[encoded data removed]",
            "text/plain": [
              "<Figure size 432x288 with 1 Axes>"
            ]
          },
          "metadata": {
            "tags": [],
            "needs_background": "light"
          }
        }
      ]
    },
    {
      "cell_type": "markdown",
      "metadata": {
        "id": "PSqTmtYcu2Tf",
        "colab_type": "text"
      },
      "source": [
        "## PreProcessing"
      ]
    },
    {
      "cell_type": "code",
      "metadata": {
        "id": "JZ2A1_48vEDf",
        "colab_type": "code",
        "colab": {
          "base_uri": "https://localhost:8080/",
          "height": 34
        },
        "outputId": "279c040e-3e44-400d-dd2a-e737510b9e29"
      },
      "source": [
        "x_train[0].max()"
      ],
      "execution_count": 8,
      "outputs": [
        {
          "output_type": "execute_result",
          "data": {
            "text/plain": [
              "255"
            ]
          },
          "metadata": {
            "tags": []
          },
          "execution_count": 8
        }
      ]
    },
    {
      "cell_type": "code",
      "metadata": {
        "id": "0TdlnxiNvHSM",
        "colab_type": "code",
        "colab": {}
      },
      "source": [
        "#normalize the size to between 0 and 1\n",
        "x_train=x_train/255\n",
        "x_test=x_test/255"
      ],
      "execution_count": 0,
      "outputs": []
    },
    {
      "cell_type": "code",
      "metadata": {
        "id": "dld6hyoXvst9",
        "colab_type": "code",
        "colab": {
          "base_uri": "https://localhost:8080/",
          "height": 34
        },
        "outputId": "e3fb4d70-0aba-4674-86ea-f97051d56398"
      },
      "source": [
        "x_test.shape"
      ],
      "execution_count": 10,
      "outputs": [
        {
          "output_type": "execute_result",
          "data": {
            "text/plain": [
              "(10000, 32, 32, 3)"
            ]
          },
          "metadata": {
            "tags": []
          },
          "execution_count": 10
        }
      ]
    },
    {
      "cell_type": "code",
      "metadata": {
        "id": "oOBToRYyvvKO",
        "colab_type": "code",
        "colab": {
          "base_uri": "https://localhost:8080/",
          "height": 136
        },
        "outputId": "292a0030-4af0-4875-d13e-6799905ed973"
      },
      "source": [
        "y_train"
      ],
      "execution_count": 11,
      "outputs": [
        {
          "output_type": "execute_result",
          "data": {
            "text/plain": [
              "array([[6],\n",
              "       [9],\n",
              "       [9],\n",
              "       ...,\n",
              "       [9],\n",
              "       [1],\n",
              "       [1]], dtype=uint8)"
            ]
          },
          "metadata": {
            "tags": []
          },
          "execution_count": 11
        }
      ]
    },
    {
      "cell_type": "code",
      "metadata": {
        "id": "VfoVjyvSvx6j",
        "colab_type": "code",
        "colab": {}
      },
      "source": [
        "from tensorflow.keras.utils import to_categorical"
      ],
      "execution_count": 0,
      "outputs": []
    },
    {
      "cell_type": "code",
      "metadata": {
        "id": "5ZCsS4Rjv6Sw",
        "colab_type": "code",
        "colab": {}
      },
      "source": [
        "#Converts a class vector (integers) to binary class matrix.\n",
        "y_cat_train=to_categorical(y_train, 10)\n",
        "y_cat_test=to_categorical(y_test, 10)"
      ],
      "execution_count": 0,
      "outputs": []
    },
    {
      "cell_type": "code",
      "metadata": {
        "id": "AjCiesUewImN",
        "colab_type": "code",
        "colab": {
          "base_uri": "https://localhost:8080/",
          "height": 34
        },
        "outputId": "8a988cb0-759a-4f59-ec3e-2cd9ec6296a6"
      },
      "source": [
        "y_train[0] #corresponds to 6 on the CIFAR dataset as can be vefified online"
      ],
      "execution_count": 15,
      "outputs": [
        {
          "output_type": "execute_result",
          "data": {
            "text/plain": [
              "array([6], dtype=uint8)"
            ]
          },
          "metadata": {
            "tags": []
          },
          "execution_count": 15
        }
      ]
    },
    {
      "cell_type": "code",
      "metadata": {
        "id": "wm5Yp7Jzwsog",
        "colab_type": "code",
        "colab": {
          "base_uri": "https://localhost:8080/",
          "height": 283
        },
        "outputId": "f5e705f0-4641-473e-9b63-9ac21cfcdc5f"
      },
      "source": [
        "plt.imshow(x_train[0])"
      ],
      "execution_count": 16,
      "outputs": [
        {
          "output_type": "execute_result",
          "data": {
            "text/plain": [
              "<matplotlib.image.AxesImage at 0x7fc4b3c3a7b8>"
            ]
          },
          "metadata": {
            "tags": []
          },
          "execution_count": 16
        },
        {
          "output_type": "display_data",
          "data": {
            "image/png": "[encoded data removed]",
            "text/plain": [
              "<Figure size 432x288 with 1 Axes>"
            ]
          },
          "metadata": {
            "tags": [],
            "needs_background": "light"
          }
        }
      ]
    },
    {
      "cell_type": "markdown",
      "metadata": {
        "id": "blr1KCS1wwrj",
        "colab_type": "text"
      },
      "source": [
        "## Building the Model"
      ]
    },
    {
      "cell_type": "code",
      "metadata": {
        "id": "ItTSzm8tw3sG",
        "colab_type": "code",
        "colab": {}
      },
      "source": [
        "from tensorflow.keras.models import Sequential\n",
        "from tensorflow.keras.layers import Dense, Conv2D, MaxPool2D, Flatten"
      ],
      "execution_count": 0,
      "outputs": []
    },
    {
      "cell_type": "code",
      "metadata": {
        "id": "cuQOSj6Pw5lk",
        "colab_type": "code",
        "colab": {}
      },
      "source": [
        "model = Sequential()\n",
        "\n",
        "## FIRST SET OF LAYERS\n",
        "\n",
        "# CONVOLUTIONAL LAYER\n",
        "model.add(Conv2D(filters=32, kernel_size=(4,4),input_shape=(32, 32, 3), activation='relu',))\n",
        "# POOLING LAYER\n",
        "model.add(MaxPool2D(pool_size=(2, 2)))\n",
        "\n",
        "#We need an extra convolutional layer\n",
        "## SECOND SET OF LAYERS\n",
        "\n",
        "# CONVOLUTIONAL LAYER\n",
        "model.add(Conv2D(filters=32, kernel_size=(4,4),input_shape=(32, 32, 3), activation='relu',))\n",
        "# POOLING LAYER\n",
        "model.add(MaxPool2D(pool_size=(2, 2)))\n",
        "\n",
        "# FLATTEN IMAGES BEFORE FINAL LAYER\n",
        "model.add(Flatten())\n",
        "\n",
        "# 256 NEURONS IN DENSE HIDDEN LAYER (YOU CAN CHANGE THIS NUMBER OF NEURONS)\n",
        "model.add(Dense(256, activation='relu'))\n",
        "\n",
        "# LAST LAYER IS THE CLASSIFIER, THUS 10 POSSIBLE CLASSES\n",
        "model.add(Dense(10, activation='softmax'))\n",
        "\n",
        "\n",
        "model.compile(loss='categorical_crossentropy',\n",
        "              optimizer='rmsprop',\n",
        "              metrics=['accuracy'])"
      ],
      "execution_count": 0,
      "outputs": []
    },
    {
      "cell_type": "code",
      "metadata": {
        "id": "Tp2WwLtExx9p",
        "colab_type": "code",
        "colab": {
          "base_uri": "https://localhost:8080/",
          "height": 391
        },
        "outputId": "92bbc808-e0e9-450c-935d-0e99772bbf16"
      },
      "source": [
        "model.summary()"
      ],
      "execution_count": 20,
      "outputs": [
        {
          "output_type": "stream",
          "text": [
            "Model: \"sequential\"\n",
            "_________________________________________________________________\n",
            "Layer (type)                 Output Shape              Param #   \n",
            "=================================================================\n",
            "conv2d (Conv2D)              (None, 29, 29, 32)        1568      \n",
            "_________________________________________________________________\n",
            "max_pooling2d (MaxPooling2D) (None, 14, 14, 32)        0         \n",
            "_________________________________________________________________\n",
            "conv2d_1 (Conv2D)            (None, 11, 11, 32)        16416     \n",
            "_________________________________________________________________\n",
            "max_pooling2d_1 (MaxPooling2 (None, 5, 5, 32)          0         \n",
            "_________________________________________________________________\n",
            "flatten (Flatten)            (None, 800)               0         \n",
            "_________________________________________________________________\n",
            "dense (Dense)                (None, 256)               205056    \n",
            "_________________________________________________________________\n",
            "dense_1 (Dense)              (None, 10)                2570      \n",
            "=================================================================\n",
            "Total params: 225,610\n",
            "Trainable params: 225,610\n",
            "Non-trainable params: 0\n",
            "_________________________________________________________________\n"
          ],
          "name": "stdout"
        }
      ]
    },
    {
      "cell_type": "code",
      "metadata": {
        "id": "GB1RgzWlx0YV",
        "colab_type": "code",
        "colab": {}
      },
      "source": [
        "from tensorflow.keras.callbacks import EarlyStopping"
      ],
      "execution_count": 0,
      "outputs": []
    },
    {
      "cell_type": "code",
      "metadata": {
        "id": "HswwbMJDx7jq",
        "colab_type": "code",
        "colab": {}
      },
      "source": [
        "early_stop=EarlyStopping(monitor='val_loss', patience=2)"
      ],
      "execution_count": 0,
      "outputs": []
    },
    {
      "cell_type": "code",
      "metadata": {
        "id": "xYeZd49iyCJS",
        "colab_type": "code",
        "colab": {
          "base_uri": "https://localhost:8080/",
          "height": 170
        },
        "outputId": "ed742c57-662a-4fa9-a3db-53c5c73a9954"
      },
      "source": [
        "model.fit(x_train, y_cat_train, epochs=15,\n",
        "          validation_data=(x_test, y_cat_test), callbacks=[early_stop])"
      ],
      "execution_count": 23,
      "outputs": [
        {
          "output_type": "stream",
          "text": [
            "Epoch 1/15\n",
            "1563/1563 [==============================] - 60s 38ms/step - loss: 1.5194 - accuracy: 0.4538 - val_loss: 1.2546 - val_accuracy: 0.5619\n",
            "Epoch 2/15\n",
            "1563/1563 [==============================] - 59s 38ms/step - loss: 1.1675 - accuracy: 0.5900 - val_loss: 1.0738 - val_accuracy: 0.6298\n",
            "Epoch 3/15\n",
            "1563/1563 [==============================] - 60s 38ms/step - loss: 1.0177 - accuracy: 0.6461 - val_loss: 1.0913 - val_accuracy: 0.6236\n",
            "Epoch 4/15\n",
            "1563/1563 [==============================] - 61s 39ms/step - loss: 0.9138 - accuracy: 0.6846 - val_loss: 1.0790 - val_accuracy: 0.6377\n"
          ],
          "name": "stdout"
        },
        {
          "output_type": "execute_result",
          "data": {
            "text/plain": [
              "<tensorflow.python.keras.callbacks.History at 0x7fc4b4e14780>"
            ]
          },
          "metadata": {
            "tags": []
          },
          "execution_count": 23
        }
      ]
    },
    {
      "cell_type": "code",
      "metadata": {
        "id": "Hvv8SYAiyU_t",
        "colab_type": "code",
        "colab": {}
      },
      "source": [
        "metrics=pd.DataFrame(model.history.history)"
      ],
      "execution_count": 0,
      "outputs": []
    },
    {
      "cell_type": "code",
      "metadata": {
        "id": "bYOLjG1syxiN",
        "colab_type": "code",
        "colab": {
          "base_uri": "https://localhost:8080/",
          "height": 173
        },
        "outputId": "4afedc02-10f9-4832-d852-2647a9d438bc"
      },
      "source": [
        "metrics"
      ],
      "execution_count": 25,
      "outputs": [
        {
          "output_type": "execute_result",
          "data": {
            "text/html": [
              "<div>\n",
              "<style scoped>\n",
              "    .dataframe tbody tr th:only-of-type {\n",
              "        vertical-align: middle;\n",
              "    }\n",
              "\n",
              "    .dataframe tbody tr th {\n",
              "        vertical-align: top;\n",
              "    }\n",
              "\n",
              "    .dataframe thead th {\n",
              "        text-align: right;\n",
              "    }\n",
              "</style>\n",
              "<table border=\"1\" class=\"dataframe\">\n",
              "  <thead>\n",
              "    <tr style=\"text-align: right;\">\n",
              "      <th></th>\n",
              "      <th>loss</th>\n",
              "      <th>accuracy</th>\n",
              "      <th>val_loss</th>\n",
              "      <th>val_accuracy</th>\n",
              "    </tr>\n",
              "  </thead>\n",
              "  <tbody>\n",
              "    <tr>\n",
              "      <th>0</th>\n",
              "      <td>1.519357</td>\n",
              "      <td>0.45382</td>\n",
              "      <td>1.254550</td>\n",
              "      <td>0.5619</td>\n",
              "    </tr>\n",
              "    <tr>\n",
              "      <th>1</th>\n",
              "      <td>1.167460</td>\n",
              "      <td>0.59002</td>\n",
              "      <td>1.073837</td>\n",
              "      <td>0.6298</td>\n",
              "    </tr>\n",
              "    <tr>\n",
              "      <th>2</th>\n",
              "      <td>1.017714</td>\n",
              "      <td>0.64606</td>\n",
              "      <td>1.091309</td>\n",
              "      <td>0.6236</td>\n",
              "    </tr>\n",
              "    <tr>\n",
              "      <th>3</th>\n",
              "      <td>0.913752</td>\n",
              "      <td>0.68462</td>\n",
              "      <td>1.079045</td>\n",
              "      <td>0.6377</td>\n",
              "    </tr>\n",
              "  </tbody>\n",
              "</table>\n",
              "</div>"
            ],
            "text/plain": [
              "       loss  accuracy  val_loss  val_accuracy\n",
              "0  1.519357   0.45382  1.254550        0.5619\n",
              "1  1.167460   0.59002  1.073837        0.6298\n",
              "2  1.017714   0.64606  1.091309        0.6236\n",
              "3  0.913752   0.68462  1.079045        0.6377"
            ]
          },
          "metadata": {
            "tags": []
          },
          "execution_count": 25
        }
      ]
    },
    {
      "cell_type": "code",
      "metadata": {
        "id": "K4Z837Z6y0Ke",
        "colab_type": "code",
        "colab": {
          "base_uri": "https://localhost:8080/",
          "height": 34
        },
        "outputId": "0d25c5dc-ebc5-467d-f2f8-b00d0e40100c"
      },
      "source": [
        "metrics.columns"
      ],
      "execution_count": 26,
      "outputs": [
        {
          "output_type": "execute_result",
          "data": {
            "text/plain": [
              "Index(['loss', 'accuracy', 'val_loss', 'val_accuracy'], dtype='object')"
            ]
          },
          "metadata": {
            "tags": []
          },
          "execution_count": 26
        }
      ]
    },
    {
      "cell_type": "code",
      "metadata": {
        "id": "QkIsuDuZy3Hm",
        "colab_type": "code",
        "colab": {
          "base_uri": "https://localhost:8080/",
          "height": 282
        },
        "outputId": "5ff78691-712d-4eb5-a8c8-a7aa9c0d179b"
      },
      "source": [
        "metrics[['accuracy', 'val_accuracy']].plot()"
      ],
      "execution_count": 27,
      "outputs": [
        {
          "output_type": "execute_result",
          "data": {
            "text/plain": [
              "<matplotlib.axes._subplots.AxesSubplot at 0x7fc4a2455860>"
            ]
          },
          "metadata": {
            "tags": []
          },
          "execution_count": 27
        },
        {
          "output_type": "display_data",
          "data": {
            "image/png": "[encoded data removed]",
            "text/plain": [
              "<Figure size 432x288 with 1 Axes>"
            ]
          },
          "metadata": {
            "tags": [],
            "needs_background": "light"
          }
        }
      ]
    },
    {
      "cell_type": "code",
      "metadata": {
        "id": "8wpmsd79y_Xz",
        "colab_type": "code",
        "colab": {
          "base_uri": "https://localhost:8080/",
          "height": 282
        },
        "outputId": "f4db1e93-43c1-4b52-cbb1-b3449c375607"
      },
      "source": [
        "metrics[['loss', 'val_loss']].plot()"
      ],
      "execution_count": 28,
      "outputs": [
        {
          "output_type": "execute_result",
          "data": {
            "text/plain": [
              "<matplotlib.axes._subplots.AxesSubplot at 0x7fc4a24551d0>"
            ]
          },
          "metadata": {
            "tags": []
          },
          "execution_count": 28
        },
        {
          "output_type": "display_data",
          "data": {
            "image/png": "[encoded data removed]",
            "text/plain": [
              "<Figure size 432x288 with 1 Axes>"
            ]
          },
          "metadata": {
            "tags": [],
            "needs_background": "light"
          }
        }
      ]
    },
    {
      "cell_type": "code",
      "metadata": {
        "id": "Www_m5hKzK4x",
        "colab_type": "code",
        "colab": {
          "base_uri": "https://localhost:8080/",
          "height": 34
        },
        "outputId": "5401d2fd-de36-4e79-ed43-db656727597b"
      },
      "source": [
        "model.evaluate(x_test, y_cat_test, verbose=0)"
      ],
      "execution_count": 29,
      "outputs": [
        {
          "output_type": "execute_result",
          "data": {
            "text/plain": [
              "[1.0790449380874634, 0.6377000212669373]"
            ]
          },
          "metadata": {
            "tags": []
          },
          "execution_count": 29
        }
      ]
    },
    {
      "cell_type": "code",
      "metadata": {
        "id": "OW5QKcI5zTkp",
        "colab_type": "code",
        "colab": {}
      },
      "source": [
        "from sklearn.metrics import classification_report, confusion_matrix"
      ],
      "execution_count": 0,
      "outputs": []
    },
    {
      "cell_type": "code",
      "metadata": {
        "id": "U-kesVaZzgNi",
        "colab_type": "code",
        "colab": {
          "base_uri": "https://localhost:8080/",
          "height": 88
        },
        "outputId": "a16c89ea-5b78-418a-f6cb-3d0630b1bed8"
      },
      "source": [
        "predictions = model.predict_classes(x_test)"
      ],
      "execution_count": 31,
      "outputs": [
        {
          "output_type": "stream",
          "text": [
            "WARNING:tensorflow:From <ipython-input-31-7de0541c035a>:1: Sequential.predict_classes (from tensorflow.python.keras.engine.sequential) is deprecated and will be removed after 2021-01-01.\n",
            "Instructions for updating:\n",
            "Please use instead:* `np.argmax(model.predict(x), axis=-1)`,   if your model does multi-class classification   (e.g. if it uses a `softmax` last-layer activation).* `(model.predict(x) > 0.5).astype(\"int32\")`,   if your model does binary classification   (e.g. if it uses a `sigmoid` last-layer activation).\n"
          ],
          "name": "stdout"
        }
      ]
    },
    {
      "cell_type": "code",
      "metadata": {
        "id": "dLmAMGb7zlHu",
        "colab_type": "code",
        "colab": {
          "base_uri": "https://localhost:8080/",
          "height": 306
        },
        "outputId": "649a885e-1d30-48d7-ebc9-4cc49a6b1756"
      },
      "source": [
        "print(classification_report(y_test,predictions)) #model performs poorly on class 3...Cats and dogs are difficult to predict given the blurred images"
      ],
      "execution_count": 34,
      "outputs": [
        {
          "output_type": "stream",
          "text": [
            "              precision    recall  f1-score   support\n",
            "\n",
            "           0       0.56      0.76      0.65      1000\n",
            "           1       0.81      0.73      0.76      1000\n",
            "           2       0.45      0.67      0.54      1000\n",
            "           3       0.50      0.45      0.47      1000\n",
            "           4       0.66      0.51      0.58      1000\n",
            "           5       0.64      0.42      0.51      1000\n",
            "           6       0.78      0.68      0.73      1000\n",
            "           7       0.82      0.61      0.70      1000\n",
            "           8       0.61      0.86      0.71      1000\n",
            "           9       0.75      0.68      0.71      1000\n",
            "\n",
            "    accuracy                           0.64     10000\n",
            "   macro avg       0.66      0.64      0.64     10000\n",
            "weighted avg       0.66      0.64      0.64     10000\n",
            "\n"
          ],
          "name": "stdout"
        }
      ]
    },
    {
      "cell_type": "code",
      "metadata": {
        "id": "LFZImgp5zrfj",
        "colab_type": "code",
        "colab": {
          "base_uri": "https://localhost:8080/",
          "height": 187
        },
        "outputId": "d033e68b-23fb-44d3-c8ff-77296fa0e3d1"
      },
      "source": [
        "confusion_matrix(y_test,predictions)"
      ],
      "execution_count": 35,
      "outputs": [
        {
          "output_type": "execute_result",
          "data": {
            "text/plain": [
              "array([[755,  10,  62,   8,   8,   1,   8,   1, 126,  21],\n",
              "       [ 54, 727,  10,   8,   4,   1,   6,   0, 112,  78],\n",
              "       [ 97,   6, 672,  36,  49,  31,  45,  14,  37,  13],\n",
              "       [ 67,  16, 161, 452,  51, 103,  46,  24,  50,  30],\n",
              "       [ 71,   6, 182,  70, 512,  33,  38,  41,  37,  10],\n",
              "       [ 48,   6, 165, 197,  37, 425,  33,  40,  33,  16],\n",
              "       [ 31,  13, 112,  81,  29,   9, 681,   3,  28,  13],\n",
              "       [ 63,   6,  79,  48,  77,  56,   4, 614,  22,  31],\n",
              "       [ 82,  24,  13,   3,   1,   2,   0,   1, 862,  12],\n",
              "       [ 72,  89,  21,  10,   4,   4,   7,   8, 108, 677]])"
            ]
          },
          "metadata": {
            "tags": []
          },
          "execution_count": 35
        }
      ]
    },
    {
      "cell_type": "code",
      "metadata": {
        "id": "flocsKWwzyc8",
        "colab_type": "code",
        "colab": {
          "base_uri": "https://localhost:8080/",
          "height": 445
        },
        "outputId": "75000c04-02a7-4ccc-a1f3-66e1f4c3943d"
      },
      "source": [
        "import seaborn as sns\n",
        "plt.figure(figsize=(10,6))\n",
        "sns.heatmap(confusion_matrix(y_test,predictions),annot=True)\n",
        "# https://github.com/matplotlib/matplotlib/issues/14751"
      ],
      "execution_count": 36,
      "outputs": [
        {
          "output_type": "stream",
          "text": [
            "/usr/local/lib/python3.6/dist-packages/statsmodels/tools/_testing.py:19: FutureWarning: pandas.util.testing is deprecated. Use the functions in the public API at pandas.testing instead.\n",
            "  import pandas.util.testing as tm\n"
          ],
          "name": "stderr"
        },
        {
          "output_type": "execute_result",
          "data": {
            "text/plain": [
              "<matplotlib.axes._subplots.AxesSubplot at 0x7fc4a167b0f0>"
            ]
          },
          "metadata": {
            "tags": []
          },
          "execution_count": 36
        },
        {
          "output_type": "display_data",
          "data": {
            "image/png": "[encoded data removed]",
            "text/plain": [
              "<Figure size 720x432 with 2 Axes>"
            ]
          },
          "metadata": {
            "tags": [],
            "needs_background": "light"
          }
        }
      ]
    },
    {
      "cell_type": "code",
      "metadata": {
        "id": "oYrp5_zk0KiO",
        "colab_type": "code",
        "colab": {}
      },
      "source": [
        "my_image=x_test[16]"
      ],
      "execution_count": 0,
      "outputs": []
    },
    {
      "cell_type": "code",
      "metadata": {
        "id": "VlS4stwu0bAB",
        "colab_type": "code",
        "colab": {
          "base_uri": "https://localhost:8080/",
          "height": 850
        },
        "outputId": "52f199ae-9a44-4a2b-be06-3c6f5bda2ac7"
      },
      "source": [
        "my_image"
      ],
      "execution_count": 44,
      "outputs": [
        {
          "output_type": "execute_result",
          "data": {
            "text/plain": [
              "array([[[0.37254902, 0.29803922, 0.30588235],\n",
              "        [0.36078431, 0.30196078, 0.30588235],\n",
              "        [0.34901961, 0.30196078, 0.30196078],\n",
              "        ...,\n",
              "        [0.11764706, 0.10980392, 0.14901961],\n",
              "        [0.68627451, 0.71764706, 0.74901961],\n",
              "        [0.88235294, 0.91764706, 0.94117647]],\n",
              "\n",
              "       [[0.35294118, 0.27843137, 0.28627451],\n",
              "        [0.3372549 , 0.28235294, 0.28235294],\n",
              "        [0.3254902 , 0.27843137, 0.27843137],\n",
              "        ...,\n",
              "        [0.        , 0.        , 0.05098039],\n",
              "        [0.23529412, 0.24705882, 0.30980392],\n",
              "        [0.64705882, 0.67058824, 0.74117647]],\n",
              "\n",
              "       [[0.34509804, 0.27058824, 0.27843137],\n",
              "        [0.32941176, 0.2745098 , 0.2745098 ],\n",
              "        [0.32156863, 0.2745098 , 0.2745098 ],\n",
              "        ...,\n",
              "        [0.01960784, 0.        , 0.04705882],\n",
              "        [0.09411765, 0.10196078, 0.18823529],\n",
              "        [0.49803922, 0.54509804, 0.64705882]],\n",
              "\n",
              "       ...,\n",
              "\n",
              "       [[0.79607843, 0.69019608, 0.63137255],\n",
              "        [0.83529412, 0.68627451, 0.61176471],\n",
              "        [0.79215686, 0.64705882, 0.60784314],\n",
              "        ...,\n",
              "        [0.71372549, 0.71764706, 0.74117647],\n",
              "        [0.4627451 , 0.47058824, 0.49019608],\n",
              "        [0.14509804, 0.1254902 , 0.18039216]],\n",
              "\n",
              "       [[0.48235294, 0.36862745, 0.35294118],\n",
              "        [0.82352941, 0.66666667, 0.61568627],\n",
              "        [0.82745098, 0.67058824, 0.62745098],\n",
              "        ...,\n",
              "        [0.45490196, 0.45490196, 0.47058824],\n",
              "        [0.17254902, 0.17647059, 0.18431373],\n",
              "        [0.04313725, 0.01176471, 0.05882353]],\n",
              "\n",
              "       [[0.4       , 0.33333333, 0.32941176],\n",
              "        [0.81568627, 0.71764706, 0.68627451],\n",
              "        [0.84313725, 0.72941176, 0.69019608],\n",
              "        ...,\n",
              "        [0.14509804, 0.12941176, 0.16862745],\n",
              "        [0.06666667, 0.05098039, 0.08627451],\n",
              "        [0.08627451, 0.04313725, 0.10980392]]])"
            ]
          },
          "metadata": {
            "tags": []
          },
          "execution_count": 44
        }
      ]
    },
    {
      "cell_type": "code",
      "metadata": {
        "id": "0b2_Q5WS0cO6",
        "colab_type": "code",
        "colab": {
          "base_uri": "https://localhost:8080/",
          "height": 283
        },
        "outputId": "4f81fbc1-c671-4879-9fdc-a5b4926782a7"
      },
      "source": [
        "plt.imshow(my_image)"
      ],
      "execution_count": 45,
      "outputs": [
        {
          "output_type": "execute_result",
          "data": {
            "text/plain": [
              "<matplotlib.image.AxesImage at 0x7fc49d862588>"
            ]
          },
          "metadata": {
            "tags": []
          },
          "execution_count": 45
        },
        {
          "output_type": "display_data",
          "data": {
            "image/png": "[encoded data removed]",
            "text/plain": [
              "<Figure size 432x288 with 1 Axes>"
            ]
          },
          "metadata": {
            "tags": [],
            "needs_background": "light"
          }
        }
      ]
    },
    {
      "cell_type": "code",
      "metadata": {
        "id": "y6H2x1HA0izm",
        "colab_type": "code",
        "colab": {
          "base_uri": "https://localhost:8080/",
          "height": 34
        },
        "outputId": "8619e7c1-758f-4cc6-b504-b2f5bbe7ecef"
      },
      "source": [
        "y_test[16]"
      ],
      "execution_count": 48,
      "outputs": [
        {
          "output_type": "execute_result",
          "data": {
            "text/plain": [
              "array([5], dtype=uint8)"
            ]
          },
          "metadata": {
            "tags": []
          },
          "execution_count": 48
        }
      ]
    },
    {
      "cell_type": "code",
      "metadata": {
        "id": "bWNu83Hy0uX_",
        "colab_type": "code",
        "colab": {
          "base_uri": "https://localhost:8080/",
          "height": 34
        },
        "outputId": "7109aa9d-fd7d-4df8-8050-8e060ce0fd03"
      },
      "source": [
        "model.predict_classes(my_image.reshape(1,32,32,3)) #correct prediction of dog"
      ],
      "execution_count": 50,
      "outputs": [
        {
          "output_type": "execute_result",
          "data": {
            "text/plain": [
              "array([5])"
            ]
          },
          "metadata": {
            "tags": []
          },
          "execution_count": 50
        }
      ]
    },
    {
      "cell_type": "markdown",
      "metadata": {
        "id": "_nUHePAc05V_",
        "colab_type": "text"
      },
      "source": [
        "End of Notebook!"
      ]
    }
  ]
}