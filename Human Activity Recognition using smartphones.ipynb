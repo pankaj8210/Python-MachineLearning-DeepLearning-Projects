{
 "cells": [
  {
   "cell_type": "markdown",
   "metadata": {},
   "source": [
    "# Human Activity Recognition using smartphones"
   ]
  },
  {
   "cell_type": "markdown",
   "metadata": {},
   "source": [
    "The Human Activity Recognition database was built from the recordings of 30 study participants performing activities of daily living (ADL) while carrying a waist-mounted smartphone with embedded inertia sensors. The objective of this project is to classify activities into one of the six activities performed.\n",
    "\n",
    "The classification models used are:\n",
    "1. Logistic Regression\n",
    "2. Random Forest Classifier\n",
    "3. KNN\n",
    "4. Decision Tree with GridSearchCV"
   ]
  },
  {
   "cell_type": "code",
   "execution_count": 1,
   "metadata": {},
   "outputs": [],
   "source": [
    "#importing libraries\n",
    "import pandas as pd\n",
    "import numpy as np\n",
    "from matplotlib import pyplot as plt\n",
    "%matplotlib inline\n",
    "import warnings\n",
    "warnings.filterwarnings('ignore')"
   ]
  },
  {
   "cell_type": "markdown",
   "metadata": {},
   "source": [
    "## Import Data"
   ]
  },
  {
   "cell_type": "code",
   "execution_count": 2,
   "metadata": {},
   "outputs": [],
   "source": [
    "# Import train and test data\n",
    "train = pd.read_csv('train.csv')\n",
    "test = pd.read_csv('test.csv')"
   ]
  },
  {
   "cell_type": "code",
   "execution_count": 3,
   "metadata": {},
   "outputs": [
    {
     "data": {
      "text/html": [
       "<div>\n",
       "<style scoped>\n",
       "    .dataframe tbody tr th:only-of-type {\n",
       "        vertical-align: middle;\n",
       "    }\n",
       "\n",
       "    .dataframe tbody tr th {\n",
       "        vertical-align: top;\n",
       "    }\n",
       "\n",
       "    .dataframe thead th {\n",
       "        text-align: right;\n",
       "    }\n",
       "</style>\n",
       "<table border=\"1\" class=\"dataframe\">\n",
       "  <thead>\n",
       "    <tr style=\"text-align: right;\">\n",
       "      <th></th>\n",
       "      <th>tBodyAcc-mean()-X</th>\n",
       "      <th>tBodyAcc-mean()-Y</th>\n",
       "      <th>tBodyAcc-mean()-Z</th>\n",
       "      <th>tBodyAcc-std()-X</th>\n",
       "      <th>tBodyAcc-std()-Y</th>\n",
       "      <th>tBodyAcc-std()-Z</th>\n",
       "      <th>tBodyAcc-mad()-X</th>\n",
       "      <th>tBodyAcc-mad()-Y</th>\n",
       "      <th>tBodyAcc-mad()-Z</th>\n",
       "      <th>tBodyAcc-max()-X</th>\n",
       "      <th>...</th>\n",
       "      <th>fBodyBodyGyroJerkMag-kurtosis()</th>\n",
       "      <th>angle(tBodyAccMean,gravity)</th>\n",
       "      <th>angle(tBodyAccJerkMean),gravityMean)</th>\n",
       "      <th>angle(tBodyGyroMean,gravityMean)</th>\n",
       "      <th>angle(tBodyGyroJerkMean,gravityMean)</th>\n",
       "      <th>angle(X,gravityMean)</th>\n",
       "      <th>angle(Y,gravityMean)</th>\n",
       "      <th>angle(Z,gravityMean)</th>\n",
       "      <th>subject</th>\n",
       "      <th>Activity</th>\n",
       "    </tr>\n",
       "  </thead>\n",
       "  <tbody>\n",
       "    <tr>\n",
       "      <td>0</td>\n",
       "      <td>0.288585</td>\n",
       "      <td>-0.020294</td>\n",
       "      <td>-0.132905</td>\n",
       "      <td>-0.995279</td>\n",
       "      <td>-0.983111</td>\n",
       "      <td>-0.913526</td>\n",
       "      <td>-0.995112</td>\n",
       "      <td>-0.983185</td>\n",
       "      <td>-0.923527</td>\n",
       "      <td>-0.934724</td>\n",
       "      <td>...</td>\n",
       "      <td>-0.710304</td>\n",
       "      <td>-0.112754</td>\n",
       "      <td>0.030400</td>\n",
       "      <td>-0.464761</td>\n",
       "      <td>-0.018446</td>\n",
       "      <td>-0.841247</td>\n",
       "      <td>0.179941</td>\n",
       "      <td>-0.058627</td>\n",
       "      <td>1</td>\n",
       "      <td>STANDING</td>\n",
       "    </tr>\n",
       "    <tr>\n",
       "      <td>1</td>\n",
       "      <td>0.278419</td>\n",
       "      <td>-0.016411</td>\n",
       "      <td>-0.123520</td>\n",
       "      <td>-0.998245</td>\n",
       "      <td>-0.975300</td>\n",
       "      <td>-0.960322</td>\n",
       "      <td>-0.998807</td>\n",
       "      <td>-0.974914</td>\n",
       "      <td>-0.957686</td>\n",
       "      <td>-0.943068</td>\n",
       "      <td>...</td>\n",
       "      <td>-0.861499</td>\n",
       "      <td>0.053477</td>\n",
       "      <td>-0.007435</td>\n",
       "      <td>-0.732626</td>\n",
       "      <td>0.703511</td>\n",
       "      <td>-0.844788</td>\n",
       "      <td>0.180289</td>\n",
       "      <td>-0.054317</td>\n",
       "      <td>1</td>\n",
       "      <td>STANDING</td>\n",
       "    </tr>\n",
       "    <tr>\n",
       "      <td>2</td>\n",
       "      <td>0.279653</td>\n",
       "      <td>-0.019467</td>\n",
       "      <td>-0.113462</td>\n",
       "      <td>-0.995380</td>\n",
       "      <td>-0.967187</td>\n",
       "      <td>-0.978944</td>\n",
       "      <td>-0.996520</td>\n",
       "      <td>-0.963668</td>\n",
       "      <td>-0.977469</td>\n",
       "      <td>-0.938692</td>\n",
       "      <td>...</td>\n",
       "      <td>-0.760104</td>\n",
       "      <td>-0.118559</td>\n",
       "      <td>0.177899</td>\n",
       "      <td>0.100699</td>\n",
       "      <td>0.808529</td>\n",
       "      <td>-0.848933</td>\n",
       "      <td>0.180637</td>\n",
       "      <td>-0.049118</td>\n",
       "      <td>1</td>\n",
       "      <td>STANDING</td>\n",
       "    </tr>\n",
       "    <tr>\n",
       "      <td>3</td>\n",
       "      <td>0.279174</td>\n",
       "      <td>-0.026201</td>\n",
       "      <td>-0.123283</td>\n",
       "      <td>-0.996091</td>\n",
       "      <td>-0.983403</td>\n",
       "      <td>-0.990675</td>\n",
       "      <td>-0.997099</td>\n",
       "      <td>-0.982750</td>\n",
       "      <td>-0.989302</td>\n",
       "      <td>-0.938692</td>\n",
       "      <td>...</td>\n",
       "      <td>-0.482845</td>\n",
       "      <td>-0.036788</td>\n",
       "      <td>-0.012892</td>\n",
       "      <td>0.640011</td>\n",
       "      <td>-0.485366</td>\n",
       "      <td>-0.848649</td>\n",
       "      <td>0.181935</td>\n",
       "      <td>-0.047663</td>\n",
       "      <td>1</td>\n",
       "      <td>STANDING</td>\n",
       "    </tr>\n",
       "    <tr>\n",
       "      <td>4</td>\n",
       "      <td>0.276629</td>\n",
       "      <td>-0.016570</td>\n",
       "      <td>-0.115362</td>\n",
       "      <td>-0.998139</td>\n",
       "      <td>-0.980817</td>\n",
       "      <td>-0.990482</td>\n",
       "      <td>-0.998321</td>\n",
       "      <td>-0.979672</td>\n",
       "      <td>-0.990441</td>\n",
       "      <td>-0.942469</td>\n",
       "      <td>...</td>\n",
       "      <td>-0.699205</td>\n",
       "      <td>0.123320</td>\n",
       "      <td>0.122542</td>\n",
       "      <td>0.693578</td>\n",
       "      <td>-0.615971</td>\n",
       "      <td>-0.847865</td>\n",
       "      <td>0.185151</td>\n",
       "      <td>-0.043892</td>\n",
       "      <td>1</td>\n",
       "      <td>STANDING</td>\n",
       "    </tr>\n",
       "  </tbody>\n",
       "</table>\n",
       "<p>5 rows × 563 columns</p>\n",
       "</div>"
      ],
      "text/plain": [
       "   tBodyAcc-mean()-X  tBodyAcc-mean()-Y  tBodyAcc-mean()-Z  tBodyAcc-std()-X  \\\n",
       "0           0.288585          -0.020294          -0.132905         -0.995279   \n",
       "1           0.278419          -0.016411          -0.123520         -0.998245   \n",
       "2           0.279653          -0.019467          -0.113462         -0.995380   \n",
       "3           0.279174          -0.026201          -0.123283         -0.996091   \n",
       "4           0.276629          -0.016570          -0.115362         -0.998139   \n",
       "\n",
       "   tBodyAcc-std()-Y  tBodyAcc-std()-Z  tBodyAcc-mad()-X  tBodyAcc-mad()-Y  \\\n",
       "0         -0.983111         -0.913526         -0.995112         -0.983185   \n",
       "1         -0.975300         -0.960322         -0.998807         -0.974914   \n",
       "2         -0.967187         -0.978944         -0.996520         -0.963668   \n",
       "3         -0.983403         -0.990675         -0.997099         -0.982750   \n",
       "4         -0.980817         -0.990482         -0.998321         -0.979672   \n",
       "\n",
       "   tBodyAcc-mad()-Z  tBodyAcc-max()-X  ...  fBodyBodyGyroJerkMag-kurtosis()  \\\n",
       "0         -0.923527         -0.934724  ...                        -0.710304   \n",
       "1         -0.957686         -0.943068  ...                        -0.861499   \n",
       "2         -0.977469         -0.938692  ...                        -0.760104   \n",
       "3         -0.989302         -0.938692  ...                        -0.482845   \n",
       "4         -0.990441         -0.942469  ...                        -0.699205   \n",
       "\n",
       "   angle(tBodyAccMean,gravity)  angle(tBodyAccJerkMean),gravityMean)  \\\n",
       "0                    -0.112754                              0.030400   \n",
       "1                     0.053477                             -0.007435   \n",
       "2                    -0.118559                              0.177899   \n",
       "3                    -0.036788                             -0.012892   \n",
       "4                     0.123320                              0.122542   \n",
       "\n",
       "   angle(tBodyGyroMean,gravityMean)  angle(tBodyGyroJerkMean,gravityMean)  \\\n",
       "0                         -0.464761                             -0.018446   \n",
       "1                         -0.732626                              0.703511   \n",
       "2                          0.100699                              0.808529   \n",
       "3                          0.640011                             -0.485366   \n",
       "4                          0.693578                             -0.615971   \n",
       "\n",
       "   angle(X,gravityMean)  angle(Y,gravityMean)  angle(Z,gravityMean)  subject  \\\n",
       "0             -0.841247              0.179941             -0.058627        1   \n",
       "1             -0.844788              0.180289             -0.054317        1   \n",
       "2             -0.848933              0.180637             -0.049118        1   \n",
       "3             -0.848649              0.181935             -0.047663        1   \n",
       "4             -0.847865              0.185151             -0.043892        1   \n",
       "\n",
       "   Activity  \n",
       "0  STANDING  \n",
       "1  STANDING  \n",
       "2  STANDING  \n",
       "3  STANDING  \n",
       "4  STANDING  \n",
       "\n",
       "[5 rows x 563 columns]"
      ]
     },
     "execution_count": 3,
     "metadata": {},
     "output_type": "execute_result"
    }
   ],
   "source": [
    "train.head()"
   ]
  },
  {
   "cell_type": "code",
   "execution_count": 6,
   "metadata": {},
   "outputs": [
    {
     "data": {
      "text/plain": [
       "WALKING               209\n",
       "STANDING              179\n",
       "LAYING                164\n",
       "WALKING_UPSTAIRS      159\n",
       "WALKING_DOWNSTAIRS    145\n",
       "SITTING               143\n",
       "Name: Activity, dtype: int64"
      ]
     },
     "execution_count": 6,
     "metadata": {},
     "output_type": "execute_result"
    }
   ],
   "source": [
    "# Check counts of Activities in train data\n",
    "train.Activity.value_counts()"
   ]
  },
  {
   "cell_type": "code",
   "execution_count": 7,
   "metadata": {},
   "outputs": [
    {
     "data": {
      "text/plain": [
       "WALKING               185\n",
       "LAYING                183\n",
       "STANDING              178\n",
       "SITTING               170\n",
       "WALKING_UPSTAIRS      149\n",
       "WALKING_DOWNSTAIRS    134\n",
       "Name: Activity, dtype: int64"
      ]
     },
     "execution_count": 7,
     "metadata": {},
     "output_type": "execute_result"
    }
   ],
   "source": [
    "# Check counts of Activities in test data\n",
    "test.Activity.value_counts()"
   ]
  },
  {
   "cell_type": "code",
   "execution_count": 8,
   "metadata": {},
   "outputs": [
    {
     "data": {
      "text/plain": [
       "((999, 563), (999, 563))"
      ]
     },
     "execution_count": 8,
     "metadata": {},
     "output_type": "execute_result"
    }
   ],
   "source": [
    "#Check shape of data\n",
    "train.shape, test.shape"
   ]
  },
  {
   "cell_type": "code",
   "execution_count": 9,
   "metadata": {},
   "outputs": [
    {
     "data": {
      "text/plain": [
       "Index(['tBodyAcc-mean()-X', 'tBodyAcc-mean()-Y', 'tBodyAcc-mean()-Z',\n",
       "       'tBodyAcc-std()-X', 'tBodyAcc-std()-Y', 'tBodyAcc-std()-Z',\n",
       "       'tBodyAcc-mad()-X', 'tBodyAcc-mad()-Y', 'tBodyAcc-mad()-Z',\n",
       "       'tBodyAcc-max()-X',\n",
       "       ...\n",
       "       'fBodyBodyGyroJerkMag-kurtosis()', 'angle(tBodyAccMean,gravity)',\n",
       "       'angle(tBodyAccJerkMean),gravityMean)',\n",
       "       'angle(tBodyGyroMean,gravityMean)',\n",
       "       'angle(tBodyGyroJerkMean,gravityMean)', 'angle(X,gravityMean)',\n",
       "       'angle(Y,gravityMean)', 'angle(Z,gravityMean)', 'subject', 'Activity'],\n",
       "      dtype='object', length=563)"
      ]
     },
     "execution_count": 9,
     "metadata": {},
     "output_type": "execute_result"
    }
   ],
   "source": [
    "# Check the columns of train data\n",
    "train.columns"
   ]
  },
  {
   "cell_type": "code",
   "execution_count": 10,
   "metadata": {},
   "outputs": [
    {
     "data": {
      "text/html": [
       "<div>\n",
       "<style scoped>\n",
       "    .dataframe tbody tr th:only-of-type {\n",
       "        vertical-align: middle;\n",
       "    }\n",
       "\n",
       "    .dataframe tbody tr th {\n",
       "        vertical-align: top;\n",
       "    }\n",
       "\n",
       "    .dataframe thead th {\n",
       "        text-align: right;\n",
       "    }\n",
       "</style>\n",
       "<table border=\"1\" class=\"dataframe\">\n",
       "  <thead>\n",
       "    <tr style=\"text-align: right;\">\n",
       "      <th></th>\n",
       "      <th>tBodyAcc-mean()-X</th>\n",
       "      <th>tBodyAcc-mean()-Y</th>\n",
       "      <th>tBodyAcc-mean()-Z</th>\n",
       "      <th>tBodyAcc-std()-X</th>\n",
       "      <th>tBodyAcc-std()-Y</th>\n",
       "      <th>tBodyAcc-std()-Z</th>\n",
       "      <th>tBodyAcc-mad()-X</th>\n",
       "      <th>tBodyAcc-mad()-Y</th>\n",
       "      <th>tBodyAcc-mad()-Z</th>\n",
       "      <th>tBodyAcc-max()-X</th>\n",
       "      <th>...</th>\n",
       "      <th>fBodyBodyGyroJerkMag-skewness()</th>\n",
       "      <th>fBodyBodyGyroJerkMag-kurtosis()</th>\n",
       "      <th>angle(tBodyAccMean,gravity)</th>\n",
       "      <th>angle(tBodyAccJerkMean),gravityMean)</th>\n",
       "      <th>angle(tBodyGyroMean,gravityMean)</th>\n",
       "      <th>angle(tBodyGyroJerkMean,gravityMean)</th>\n",
       "      <th>angle(X,gravityMean)</th>\n",
       "      <th>angle(Y,gravityMean)</th>\n",
       "      <th>angle(Z,gravityMean)</th>\n",
       "      <th>subject</th>\n",
       "    </tr>\n",
       "  </thead>\n",
       "  <tbody>\n",
       "    <tr>\n",
       "      <td>count</td>\n",
       "      <td>999.000000</td>\n",
       "      <td>999.000000</td>\n",
       "      <td>999.000000</td>\n",
       "      <td>999.000000</td>\n",
       "      <td>999.000000</td>\n",
       "      <td>999.000000</td>\n",
       "      <td>999.000000</td>\n",
       "      <td>999.000000</td>\n",
       "      <td>999.000000</td>\n",
       "      <td>999.000000</td>\n",
       "      <td>...</td>\n",
       "      <td>999.000000</td>\n",
       "      <td>999.000000</td>\n",
       "      <td>999.000000</td>\n",
       "      <td>999.000000</td>\n",
       "      <td>999.000000</td>\n",
       "      <td>999.000000</td>\n",
       "      <td>999.000000</td>\n",
       "      <td>999.000000</td>\n",
       "      <td>999.000000</td>\n",
       "      <td>999.000000</td>\n",
       "    </tr>\n",
       "    <tr>\n",
       "      <td>mean</td>\n",
       "      <td>0.272522</td>\n",
       "      <td>-0.017315</td>\n",
       "      <td>-0.106699</td>\n",
       "      <td>-0.564767</td>\n",
       "      <td>-0.421911</td>\n",
       "      <td>-0.601705</td>\n",
       "      <td>-0.596136</td>\n",
       "      <td>-0.439798</td>\n",
       "      <td>-0.591796</td>\n",
       "      <td>-0.411679</td>\n",
       "      <td>...</td>\n",
       "      <td>-0.219581</td>\n",
       "      <td>-0.541213</td>\n",
       "      <td>0.015125</td>\n",
       "      <td>0.002728</td>\n",
       "      <td>0.004282</td>\n",
       "      <td>-0.013146</td>\n",
       "      <td>-0.545935</td>\n",
       "      <td>0.058899</td>\n",
       "      <td>-0.033470</td>\n",
       "      <td>2.936937</td>\n",
       "    </tr>\n",
       "    <tr>\n",
       "      <td>std</td>\n",
       "      <td>0.070183</td>\n",
       "      <td>0.041918</td>\n",
       "      <td>0.056029</td>\n",
       "      <td>0.428018</td>\n",
       "      <td>0.501715</td>\n",
       "      <td>0.340713</td>\n",
       "      <td>0.400180</td>\n",
       "      <td>0.486153</td>\n",
       "      <td>0.351317</td>\n",
       "      <td>0.530312</td>\n",
       "      <td>...</td>\n",
       "      <td>0.351241</td>\n",
       "      <td>0.360838</td>\n",
       "      <td>0.349059</td>\n",
       "      <td>0.469766</td>\n",
       "      <td>0.629273</td>\n",
       "      <td>0.481251</td>\n",
       "      <td>0.471809</td>\n",
       "      <td>0.349956</td>\n",
       "      <td>0.168279</td>\n",
       "      <td>1.636577</td>\n",
       "    </tr>\n",
       "    <tr>\n",
       "      <td>min</td>\n",
       "      <td>-0.361205</td>\n",
       "      <td>-0.684097</td>\n",
       "      <td>-1.000000</td>\n",
       "      <td>-0.999300</td>\n",
       "      <td>-0.998359</td>\n",
       "      <td>-0.999454</td>\n",
       "      <td>-0.999407</td>\n",
       "      <td>-0.998077</td>\n",
       "      <td>-0.999808</td>\n",
       "      <td>-0.971348</td>\n",
       "      <td>...</td>\n",
       "      <td>-0.944282</td>\n",
       "      <td>-0.999595</td>\n",
       "      <td>-0.939598</td>\n",
       "      <td>-0.976454</td>\n",
       "      <td>-0.995222</td>\n",
       "      <td>-0.994877</td>\n",
       "      <td>-1.000000</td>\n",
       "      <td>-0.875487</td>\n",
       "      <td>-0.980143</td>\n",
       "      <td>1.000000</td>\n",
       "    </tr>\n",
       "    <tr>\n",
       "      <td>25%</td>\n",
       "      <td>0.258468</td>\n",
       "      <td>-0.025925</td>\n",
       "      <td>-0.122726</td>\n",
       "      <td>-0.990822</td>\n",
       "      <td>-0.968894</td>\n",
       "      <td>-0.973927</td>\n",
       "      <td>-0.992207</td>\n",
       "      <td>-0.970928</td>\n",
       "      <td>-0.972885</td>\n",
       "      <td>-0.933391</td>\n",
       "      <td>...</td>\n",
       "      <td>-0.476273</td>\n",
       "      <td>-0.815733</td>\n",
       "      <td>-0.144342</td>\n",
       "      <td>-0.316220</td>\n",
       "      <td>-0.512150</td>\n",
       "      <td>-0.392773</td>\n",
       "      <td>-0.795959</td>\n",
       "      <td>0.030145</td>\n",
       "      <td>-0.103119</td>\n",
       "      <td>1.000000</td>\n",
       "    </tr>\n",
       "    <tr>\n",
       "      <td>50%</td>\n",
       "      <td>0.277054</td>\n",
       "      <td>-0.017185</td>\n",
       "      <td>-0.108829</td>\n",
       "      <td>-0.464909</td>\n",
       "      <td>-0.208523</td>\n",
       "      <td>-0.486962</td>\n",
       "      <td>-0.509215</td>\n",
       "      <td>-0.242165</td>\n",
       "      <td>-0.465163</td>\n",
       "      <td>-0.297181</td>\n",
       "      <td>...</td>\n",
       "      <td>-0.264434</td>\n",
       "      <td>-0.629299</td>\n",
       "      <td>0.010903</td>\n",
       "      <td>0.017954</td>\n",
       "      <td>0.012891</td>\n",
       "      <td>-0.016025</td>\n",
       "      <td>-0.717300</td>\n",
       "      <td>0.223164</td>\n",
       "      <td>0.030593</td>\n",
       "      <td>3.000000</td>\n",
       "    </tr>\n",
       "    <tr>\n",
       "      <td>75%</td>\n",
       "      <td>0.290635</td>\n",
       "      <td>-0.007523</td>\n",
       "      <td>-0.093717</td>\n",
       "      <td>-0.234604</td>\n",
       "      <td>0.045610</td>\n",
       "      <td>-0.314822</td>\n",
       "      <td>-0.289766</td>\n",
       "      <td>0.012828</td>\n",
       "      <td>-0.302503</td>\n",
       "      <td>-0.008596</td>\n",
       "      <td>...</td>\n",
       "      <td>-0.015262</td>\n",
       "      <td>-0.361251</td>\n",
       "      <td>0.178357</td>\n",
       "      <td>0.332586</td>\n",
       "      <td>0.538985</td>\n",
       "      <td>0.350713</td>\n",
       "      <td>-0.606748</td>\n",
       "      <td>0.281283</td>\n",
       "      <td>0.082679</td>\n",
       "      <td>5.000000</td>\n",
       "    </tr>\n",
       "    <tr>\n",
       "      <td>max</td>\n",
       "      <td>0.498177</td>\n",
       "      <td>0.324130</td>\n",
       "      <td>0.346658</td>\n",
       "      <td>0.543347</td>\n",
       "      <td>0.532506</td>\n",
       "      <td>0.364114</td>\n",
       "      <td>0.495926</td>\n",
       "      <td>0.502260</td>\n",
       "      <td>0.554965</td>\n",
       "      <td>0.680338</td>\n",
       "      <td>...</td>\n",
       "      <td>0.989538</td>\n",
       "      <td>0.956845</td>\n",
       "      <td>0.955207</td>\n",
       "      <td>0.998425</td>\n",
       "      <td>0.994519</td>\n",
       "      <td>0.971511</td>\n",
       "      <td>0.799174</td>\n",
       "      <td>0.385117</td>\n",
       "      <td>0.265795</td>\n",
       "      <td>6.000000</td>\n",
       "    </tr>\n",
       "  </tbody>\n",
       "</table>\n",
       "<p>8 rows × 562 columns</p>\n",
       "</div>"
      ],
      "text/plain": [
       "       tBodyAcc-mean()-X  tBodyAcc-mean()-Y  tBodyAcc-mean()-Z  \\\n",
       "count         999.000000         999.000000         999.000000   \n",
       "mean            0.272522          -0.017315          -0.106699   \n",
       "std             0.070183           0.041918           0.056029   \n",
       "min            -0.361205          -0.684097          -1.000000   \n",
       "25%             0.258468          -0.025925          -0.122726   \n",
       "50%             0.277054          -0.017185          -0.108829   \n",
       "75%             0.290635          -0.007523          -0.093717   \n",
       "max             0.498177           0.324130           0.346658   \n",
       "\n",
       "       tBodyAcc-std()-X  tBodyAcc-std()-Y  tBodyAcc-std()-Z  tBodyAcc-mad()-X  \\\n",
       "count        999.000000        999.000000        999.000000        999.000000   \n",
       "mean          -0.564767         -0.421911         -0.601705         -0.596136   \n",
       "std            0.428018          0.501715          0.340713          0.400180   \n",
       "min           -0.999300         -0.998359         -0.999454         -0.999407   \n",
       "25%           -0.990822         -0.968894         -0.973927         -0.992207   \n",
       "50%           -0.464909         -0.208523         -0.486962         -0.509215   \n",
       "75%           -0.234604          0.045610         -0.314822         -0.289766   \n",
       "max            0.543347          0.532506          0.364114          0.495926   \n",
       "\n",
       "       tBodyAcc-mad()-Y  tBodyAcc-mad()-Z  tBodyAcc-max()-X  ...  \\\n",
       "count        999.000000        999.000000        999.000000  ...   \n",
       "mean          -0.439798         -0.591796         -0.411679  ...   \n",
       "std            0.486153          0.351317          0.530312  ...   \n",
       "min           -0.998077         -0.999808         -0.971348  ...   \n",
       "25%           -0.970928         -0.972885         -0.933391  ...   \n",
       "50%           -0.242165         -0.465163         -0.297181  ...   \n",
       "75%            0.012828         -0.302503         -0.008596  ...   \n",
       "max            0.502260          0.554965          0.680338  ...   \n",
       "\n",
       "       fBodyBodyGyroJerkMag-skewness()  fBodyBodyGyroJerkMag-kurtosis()  \\\n",
       "count                       999.000000                       999.000000   \n",
       "mean                         -0.219581                        -0.541213   \n",
       "std                           0.351241                         0.360838   \n",
       "min                          -0.944282                        -0.999595   \n",
       "25%                          -0.476273                        -0.815733   \n",
       "50%                          -0.264434                        -0.629299   \n",
       "75%                          -0.015262                        -0.361251   \n",
       "max                           0.989538                         0.956845   \n",
       "\n",
       "       angle(tBodyAccMean,gravity)  angle(tBodyAccJerkMean),gravityMean)  \\\n",
       "count                   999.000000                            999.000000   \n",
       "mean                      0.015125                              0.002728   \n",
       "std                       0.349059                              0.469766   \n",
       "min                      -0.939598                             -0.976454   \n",
       "25%                      -0.144342                             -0.316220   \n",
       "50%                       0.010903                              0.017954   \n",
       "75%                       0.178357                              0.332586   \n",
       "max                       0.955207                              0.998425   \n",
       "\n",
       "       angle(tBodyGyroMean,gravityMean)  angle(tBodyGyroJerkMean,gravityMean)  \\\n",
       "count                        999.000000                            999.000000   \n",
       "mean                           0.004282                             -0.013146   \n",
       "std                            0.629273                              0.481251   \n",
       "min                           -0.995222                             -0.994877   \n",
       "25%                           -0.512150                             -0.392773   \n",
       "50%                            0.012891                             -0.016025   \n",
       "75%                            0.538985                              0.350713   \n",
       "max                            0.994519                              0.971511   \n",
       "\n",
       "       angle(X,gravityMean)  angle(Y,gravityMean)  angle(Z,gravityMean)  \\\n",
       "count            999.000000            999.000000            999.000000   \n",
       "mean              -0.545935              0.058899             -0.033470   \n",
       "std                0.471809              0.349956              0.168279   \n",
       "min               -1.000000             -0.875487             -0.980143   \n",
       "25%               -0.795959              0.030145             -0.103119   \n",
       "50%               -0.717300              0.223164              0.030593   \n",
       "75%               -0.606748              0.281283              0.082679   \n",
       "max                0.799174              0.385117              0.265795   \n",
       "\n",
       "          subject  \n",
       "count  999.000000  \n",
       "mean     2.936937  \n",
       "std      1.636577  \n",
       "min      1.000000  \n",
       "25%      1.000000  \n",
       "50%      3.000000  \n",
       "75%      5.000000  \n",
       "max      6.000000  \n",
       "\n",
       "[8 rows x 562 columns]"
      ]
     },
     "execution_count": 10,
     "metadata": {},
     "output_type": "execute_result"
    }
   ],
   "source": [
    "#Summary of train set\n",
    "train.describe()"
   ]
  },
  {
   "cell_type": "markdown",
   "metadata": {},
   "source": [
    "## Logistic Regression"
   ]
  },
  {
   "cell_type": "code",
   "execution_count": 26,
   "metadata": {},
   "outputs": [],
   "source": [
    "train_df=pd.read_csv('train.csv')\n",
    "test_df=pd.read_csv('test.csv')"
   ]
  },
  {
   "cell_type": "markdown",
   "metadata": {},
   "source": [
    "Use a funcion to avoid importing the data again"
   ]
  },
  {
   "cell_type": "code",
   "execution_count": 27,
   "metadata": {},
   "outputs": [],
   "source": [
    "def get_all_data():\n",
    "    train_values = train_df.values\n",
    "    test_values = test_df.values\n",
    "    np.random.shuffle(train_values)\n",
    "    np.random.shuffle(test_values)\n",
    "    X_train = train_values[:, :-1]\n",
    "    X_test = test_values[:, :-1]\n",
    "    y_train = train_values[:,-1]\n",
    "    y_test = test_values[:, -1]\n",
    "    return X_train, X_test, y_train, y_test"
   ]
  },
  {
   "cell_type": "code",
   "execution_count": 28,
   "metadata": {},
   "outputs": [],
   "source": [
    "from sklearn.linear_model import LogisticRegression\n",
    "X_train, X_test, y_train, y_test = get_all_data()"
   ]
  },
  {
   "cell_type": "code",
   "execution_count": 29,
   "metadata": {},
   "outputs": [
    {
     "data": {
      "text/plain": [
       "LogisticRegression(C=1.0, class_weight=None, dual=False, fit_intercept=True,\n",
       "                   intercept_scaling=1, l1_ratio=None, max_iter=100,\n",
       "                   multi_class='warn', n_jobs=None, penalty='l2',\n",
       "                   random_state=None, solver='warn', tol=0.0001, verbose=0,\n",
       "                   warm_start=False)"
      ]
     },
     "execution_count": 29,
     "metadata": {},
     "output_type": "execute_result"
    }
   ],
   "source": [
    "model = LogisticRegression()\n",
    "model"
   ]
  },
  {
   "cell_type": "code",
   "execution_count": 31,
   "metadata": {},
   "outputs": [
    {
     "data": {
      "text/plain": [
       "0.997997997997998"
      ]
     },
     "execution_count": 31,
     "metadata": {},
     "output_type": "execute_result"
    }
   ],
   "source": [
    "#Fit model\n",
    "model.fit(X_test, y_test)\n",
    "\n",
    "#Get score\n",
    "model.score(X_test, y_test)"
   ]
  },
  {
   "cell_type": "markdown",
   "metadata": {},
   "source": [
    "The Logistic Regression produces an accuracy of 99.8%"
   ]
  },
  {
   "cell_type": "markdown",
   "metadata": {},
   "source": [
    "## Principal Component Analysis and Feature Scaling"
   ]
  },
  {
   "cell_type": "code",
   "execution_count": 38,
   "metadata": {},
   "outputs": [
    {
     "name": "stdout",
     "output_type": "stream",
     "text": [
      "[[ 1.69050781e-04 -4.44212412e-04 -3.51434954e-05 ...  3.60473015e-02\n",
      "   1.81230971e-02 -1.82097540e-02]\n",
      " [ 7.38946061e-04  7.15791678e-04  1.12505270e-03 ... -1.29486130e-02\n",
      "   4.67550235e-03  8.52259563e-01]\n",
      " [-7.34071586e-03  7.09003443e-04  2.29145703e-03 ...  6.28070119e-02\n",
      "   1.46603696e-02 -2.78034066e-01]\n",
      " ...\n",
      " [ 4.56854439e-02  1.09271844e-02  2.75511899e-02 ...  1.36408623e-02\n",
      "  -8.98290821e-03  8.72882158e-04]\n",
      " [-2.02503989e-02  1.84064934e-02  3.54089846e-02 ...  9.70384512e-03\n",
      "   4.72168458e-03 -4.82442096e-03]\n",
      " [ 1.90287517e-02  3.32159030e-02  1.45884106e-02 ...  3.01440464e-02\n",
      "  -1.43562194e-02 -1.04735495e-03]]\n"
     ]
    }
   ],
   "source": [
    "from sklearn.decomposition import PCA\n",
    "X_train, X_test, y_train, y_test = get_all_data()\n",
    "\n",
    "#Instantiate class object\n",
    "pca = PCA(n_components=200)\n",
    "\n",
    "#Fit to data\n",
    "pca.fit(X_train)\n",
    "\n",
    "print(pca.components_)\n"
   ]
  },
  {
   "cell_type": "code",
   "execution_count": 33,
   "metadata": {},
   "outputs": [
    {
     "name": "stdout",
     "output_type": "stream",
     "text": [
      "[3.26828494e+01 3.29185944e+00 2.81964845e+00 1.82417022e+00\n",
      " 9.17162621e-01 7.54880860e-01 6.72620154e-01 5.69026191e-01\n",
      " 5.46259311e-01 4.56198804e-01 4.33537144e-01 3.87110814e-01\n",
      " 3.30682413e-01 3.17879118e-01 2.76705101e-01 2.61502406e-01\n",
      " 2.58752305e-01 2.44371533e-01 2.30450839e-01 2.06005508e-01\n",
      " 2.03844683e-01 1.88636504e-01 1.80148115e-01 1.74783897e-01\n",
      " 1.67164409e-01 1.61293153e-01 1.55676548e-01 1.45678053e-01\n",
      " 1.41094924e-01 1.31585503e-01 1.30438282e-01 1.26758072e-01\n",
      " 1.22143328e-01 1.17014773e-01 1.10498787e-01 1.07778478e-01\n",
      " 1.06850513e-01 1.03765349e-01 9.76851413e-02 9.60614644e-02\n",
      " 9.34307746e-02 8.97794761e-02 8.44509467e-02 8.30375096e-02\n",
      " 7.70234556e-02 7.61351491e-02 7.36644054e-02 7.14232569e-02\n",
      " 6.98479559e-02 6.63275471e-02 6.56889385e-02 6.25868123e-02\n",
      " 6.03134809e-02 5.85536001e-02 5.77508266e-02 5.56442337e-02\n",
      " 5.34982119e-02 5.23770104e-02 5.17796152e-02 4.98879866e-02\n",
      " 4.90057409e-02 4.75740001e-02 4.60806834e-02 4.53941644e-02\n",
      " 4.45880742e-02 4.30331164e-02 4.27385153e-02 4.20954730e-02\n",
      " 4.09316037e-02 4.03080792e-02 3.90174305e-02 3.87807660e-02\n",
      " 3.78313568e-02 3.65201420e-02 3.60972968e-02 3.47189146e-02\n",
      " 3.43664230e-02 3.38763990e-02 3.26706413e-02 3.21166981e-02\n",
      " 3.20759197e-02 3.15002842e-02 3.08608115e-02 3.03762777e-02\n",
      " 2.96122261e-02 2.88207626e-02 2.84746310e-02 2.80386743e-02\n",
      " 2.71889052e-02 2.61616016e-02 2.58620227e-02 2.56261588e-02\n",
      " 2.49707253e-02 2.44552309e-02 2.38913627e-02 2.36093342e-02\n",
      " 2.33569044e-02 2.30043320e-02 2.26350343e-02 2.20747441e-02\n",
      " 2.15155649e-02 2.12797826e-02 2.08997269e-02 2.02356649e-02\n",
      " 1.99035147e-02 1.91859129e-02 1.86825888e-02 1.86512262e-02\n",
      " 1.76610546e-02 1.74871426e-02 1.73696908e-02 1.64946161e-02\n",
      " 1.63520752e-02 1.56986192e-02 1.54794422e-02 1.53854698e-02\n",
      " 1.49090726e-02 1.47280864e-02 1.43927850e-02 1.41410800e-02\n",
      " 1.39490714e-02 1.37524755e-02 1.34967107e-02 1.32404519e-02\n",
      " 1.26125772e-02 1.24054237e-02 1.21756746e-02 1.20701367e-02\n",
      " 1.19210913e-02 1.15415575e-02 1.11435091e-02 1.10641177e-02\n",
      " 1.09317874e-02 1.05431366e-02 1.04136423e-02 1.03026676e-02\n",
      " 9.93740546e-03 9.77309211e-03 9.47756196e-03 9.39448357e-03\n",
      " 8.97739782e-03 8.79011864e-03 8.67432225e-03 8.48025029e-03\n",
      " 8.25566684e-03 8.08041395e-03 7.72932295e-03 7.61730012e-03\n",
      " 7.47425405e-03 7.39516339e-03 7.33270517e-03 7.17129021e-03\n",
      " 6.87940403e-03 6.78536414e-03 6.70698052e-03 6.47778995e-03\n",
      " 6.32678640e-03 6.23972485e-03 6.14819556e-03 5.97333051e-03\n",
      " 5.82672832e-03 5.67418300e-03 5.59503904e-03 5.50639865e-03\n",
      " 5.37711851e-03 5.31153370e-03 5.25921774e-03 5.21767737e-03\n",
      " 5.03282489e-03 4.85519203e-03 4.79331237e-03 4.78093764e-03\n",
      " 4.63212749e-03 4.58791637e-03 4.49563745e-03 4.37710469e-03\n",
      " 4.31869507e-03 4.24046086e-03 4.19507137e-03 4.08092971e-03\n",
      " 4.06113576e-03 3.91731609e-03 3.82294720e-03 3.73648522e-03\n",
      " 3.64503507e-03 3.59053610e-03 3.48661564e-03 3.37414104e-03\n",
      " 3.33850525e-03 3.31262642e-03 3.20441409e-03 3.19508560e-03\n",
      " 3.14828436e-03 3.13910395e-03 2.95150767e-03 2.92504396e-03\n",
      " 2.84967509e-03 2.78611150e-03 2.77054907e-03 2.71911398e-03]\n"
     ]
    }
   ],
   "source": [
    "print(pca.explained_variance_)"
   ]
  },
  {
   "cell_type": "code",
   "execution_count": 39,
   "metadata": {},
   "outputs": [
    {
     "data": {
      "text/plain": [
       "0.8798798798798799"
      ]
     },
     "execution_count": 39,
     "metadata": {},
     "output_type": "execute_result"
    }
   ],
   "source": [
    "#Transform model\n",
    "X_train = pca.transform(X_train)\n",
    "X_test = pca.transform(X_test)\n",
    "\n",
    "#Fit to model\n",
    "model.fit(X_train, y_train)\n",
    "model.score(X_test, y_test)"
   ]
  },
  {
   "cell_type": "markdown",
   "metadata": {},
   "source": [
    "## Feature scaling"
   ]
  },
  {
   "cell_type": "code",
   "execution_count": 40,
   "metadata": {},
   "outputs": [
    {
     "data": {
      "text/plain": [
       "0.8408408408408409"
      ]
     },
     "execution_count": 40,
     "metadata": {},
     "output_type": "execute_result"
    }
   ],
   "source": [
    "from sklearn.preprocessing import StandardScaler\n",
    "scaler = StandardScaler()\n",
    "\n",
    "X_train, X_test, y_train, y_test = get_all_data()\n",
    "scaler.fit(X_train)\n",
    "X_train = scaler.transform(X_train)\n",
    "X_test = scaler.transform(X_test)\n",
    "\n",
    "model.fit(X_train, y_train)\n",
    "model.score(X_test, y_test)"
   ]
  },
  {
   "cell_type": "markdown",
   "metadata": {},
   "source": [
    "## Random Forest"
   ]
  },
  {
   "cell_type": "code",
   "execution_count": 41,
   "metadata": {},
   "outputs": [
    {
     "data": {
      "text/plain": [
       "0.9059059059059059"
      ]
     },
     "execution_count": 41,
     "metadata": {},
     "output_type": "execute_result"
    }
   ],
   "source": [
    "from sklearn.ensemble import RandomForestClassifier\n",
    "X_train, X_test, y_train, y_test = get_all_data()\n",
    "\n",
    "scaler.fit(X_train)\n",
    "X_train = scaler.transform(X_train)\n",
    "X_test = scaler.transform(X_test)\n",
    "\n",
    "model = RandomForestClassifier(n_estimators = 500)\n",
    "\n",
    "model.fit(X_train, y_train)\n",
    "model.score(X_test, y_test)"
   ]
  },
  {
   "cell_type": "markdown",
   "metadata": {},
   "source": [
    "## KNN"
   ]
  },
  {
   "cell_type": "code",
   "execution_count": 43,
   "metadata": {},
   "outputs": [],
   "source": [
    "from sklearn.neighbors import KNeighborsClassifier\n",
    "from sklearn.metrics import accuracy_score\n",
    "\n",
    "#Separate features and labels\n",
    "X_train = train.drop('Activity', axis = 1).values\n",
    "y_train = train.Activity.values\n",
    "\n",
    "X_test = test.drop('Activity', axis = 1).values\n",
    "y_test = test.Activity.values\n",
    "\n",
    "#Encoding y\n",
    "from sklearn import preprocessing\n",
    "encoder = preprocessing.LabelEncoder()\n",
    "\n",
    "#Encode y_train\n",
    "encoder.fit(y_train)\n",
    "y_train_e = encoder.transform(y_train)\n",
    "\n",
    "#Encode y_test\n",
    "encoder.fit(y_test)\n",
    "y_test_e = encoder.transform(y_test)"
   ]
  },
  {
   "cell_type": "code",
   "execution_count": 46,
   "metadata": {},
   "outputs": [
    {
     "name": "stdout",
     "output_type": "stream",
     "text": [
      "KNN accuracy: 0.76\n"
     ]
    }
   ],
   "source": [
    "clf = KNeighborsClassifier(n_neighbors=24)\n",
    "\n",
    "knn = clf.fit(X_train, y_train_e)\n",
    "y_preds=clf.predict(X_test)\n",
    "\n",
    "acc = accuracy_score(y_test_e, y_preds)\n",
    "print('KNN accuracy: %.2f' % (acc))"
   ]
  },
  {
   "cell_type": "markdown",
   "metadata": {},
   "source": [
    "## Decision Tree "
   ]
  },
  {
   "cell_type": "code",
   "execution_count": 49,
   "metadata": {},
   "outputs": [
    {
     "name": "stdout",
     "output_type": "stream",
     "text": [
      "Decision Tree accuracy: 0.75\n"
     ]
    }
   ],
   "source": [
    "from sklearn.tree import DecisionTreeClassifier\n",
    "from sklearn.metrics import accuracy_score\n",
    "\n",
    "dtc = DecisionTreeClassifier()\n",
    "\n",
    "tree = dtc.fit(X_train, y_train_e)\n",
    "y_preds=dtc.predict(X_test)\n",
    "\n",
    "acc = accuracy_score(y_test_e, y_preds)\n",
    "print('Decision Tree accuracy: %.2f'% (acc))"
   ]
  },
  {
   "cell_type": "markdown",
   "metadata": {},
   "source": [
    "Classification models\n",
    "1. Logistic regression : 0.99\n",
    "2. Random forest : 0.91\n",
    "3. KNN accuracy : 0.76\n",
    "4. Decision Tree Accuracy : 0.75"
   ]
  },
  {
   "cell_type": "markdown",
   "metadata": {},
   "source": [
    "End of Notebook!!!"
   ]
  },
  {
   "cell_type": "code",
   "execution_count": null,
   "metadata": {},
   "outputs": [],
   "source": []
  }
 ],
 "metadata": {
  "kernelspec": {
   "display_name": "Python 3",
   "language": "python",
   "name": "python3"
  },
  "language_info": {
   "codemirror_mode": {
    "name": "ipython",
    "version": 3
   },
   "file_extension": ".py",
   "mimetype": "text/x-python",
   "name": "python",
   "nbconvert_exporter": "python",
   "pygments_lexer": "ipython3",
   "version": "3.7.4"
  }
 },
 "nbformat": 4,
 "nbformat_minor": 2
}
